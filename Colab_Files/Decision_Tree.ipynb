{
  "cells": [
    {
      "cell_type": "markdown",
      "metadata": {
        "id": "view-in-github",
        "colab_type": "text"
      },
      "source": [
        "<a href=\"https://colab.research.google.com/github/sriramreddy-7/Brain-Tumor-Prediction/blob/main/Decision_Tree.ipynb\" target=\"_parent\"><img src=\"https://colab.research.google.com/assets/colab-badge.svg\" alt=\"Open In Colab\"/></a>"
      ]
    },
    {
      "cell_type": "code",
      "execution_count": null,
      "metadata": {
        "id": "79luh7q6QpS3"
      },
      "outputs": [],
      "source": [
        "import os\n",
        "import numpy as np\n",
        "import matplotlib.pyplot as plt\n",
        "from skimage.color import rgb2gray\n",
        "from skimage.transform import resize\n",
        "from sklearn.tree import DecisionTreeClassifier\n",
        "from sklearn.model_selection import train_test_split\n",
        "from sklearn.metrics import accuracy_score"
      ]
    },
    {
      "cell_type": "markdown",
      "metadata": {
        "id": "Z1eFDAGgU2zj"
      },
      "source": [
        "Importing the required Libraries"
      ]
    },
    {
      "cell_type": "code",
      "execution_count": null,
      "metadata": {
        "id": "mgxLYCKiQ3QC"
      },
      "outputs": [],
      "source": [
        "data_dir = '/content/drive/MyDrive/J_CompAIML/DATASET/BTDS'\n",
        "classes = ['BrainTumor', 'Healthy']\n",
        "num_classes = len(classes)\n",
        "img_size = (150,150)\n"
      ]
    },
    {
      "cell_type": "code",
      "execution_count": null,
      "metadata": {
        "colab": {
          "base_uri": "https://localhost:8080/"
        },
        "id": "nBXYK9_1RQ7V",
        "outputId": "be585b99-4223-42dd-b5b0-2d0a1ceced86"
      },
      "outputs": [
        {
          "name": "stdout",
          "output_type": "stream",
          "text": [
            "the input array must have size 3 along `channel_axis`, got (300, 289)\n",
            "the input array must have size 3 along `channel_axis`, got (336, 300)\n",
            "the input array must have size 3 along `channel_axis`, got (1024, 1024)\n",
            "the input array must have size 3 along `channel_axis`, got (300, 289)\n",
            "the input array must have size 3 along `channel_axis`, got (360, 319)\n",
            "the input array must have size 3 along `channel_axis`, got (500, 377)\n",
            "the input array must have size 3 along `channel_axis`, got (300, 289)\n",
            "the input array must have size 3 along `channel_axis`, got (1427, 1275)\n",
            "the input array must have size 3 along `channel_axis`, got (1024, 1024)\n",
            "the input array must have size 3 along `channel_axis`, got (294, 250)\n",
            "the input array must have size 3 along `channel_axis`, got (325, 300)\n",
            "the input array must have size 3 along `channel_axis`, got (360, 319)\n",
            "the input array must have size 3 along `channel_axis`, got (278, 236)\n",
            "the input array must have size 3 along `channel_axis`, got (325, 300)\n",
            "the input array must have size 3 along `channel_axis`, got (938, 911)\n",
            "the input array must have size 3 along `channel_axis`, got (325, 300)\n",
            "the input array must have size 3 along `channel_axis`, got (325, 300)\n",
            "the input array must have size 3 along `channel_axis`, got (294, 250)\n",
            "the input array must have size 3 along `channel_axis`, got (938, 911)\n",
            "the input array must have size 3 along `channel_axis`, got (325, 300)\n",
            "the input array must have size 3 along `channel_axis`, got (1427, 1275)\n",
            "the input array must have size 3 along `channel_axis`, got (500, 377)\n",
            "the input array must have size 3 along `channel_axis`, got (336, 300)\n",
            "the input array must have size 3 along `channel_axis`, got (300, 240)\n",
            "the input array must have size 3 along `channel_axis`, got (1024, 1024)\n",
            "the input array must have size 3 along `channel_axis`, got (938, 911)\n",
            "the input array must have size 3 along `channel_axis`, got (336, 300)\n",
            "the input array must have size 3 along `channel_axis`, got (294, 250)\n",
            "the input array must have size 3 along `channel_axis`, got (325, 300)\n",
            "the input array must have size 3 along `channel_axis`, got (300, 240)\n",
            "the input array must have size 3 along `channel_axis`, got (1427, 1275)\n",
            "the input array must have size 3 along `channel_axis`, got (1024, 1024)\n",
            "the input array must have size 3 along `channel_axis`, got (294, 250)\n",
            "the input array must have size 3 along `channel_axis`, got (938, 911)\n",
            "the input array must have size 3 along `channel_axis`, got (1427, 1275)\n",
            "the input array must have size 3 along `channel_axis`, got (500, 377)\n",
            "the input array must have size 3 along `channel_axis`, got (325, 300)\n",
            "the input array must have size 3 along `channel_axis`, got (300, 240)\n",
            "the input array must have size 3 along `channel_axis`, got (336, 300)\n",
            "the input array must have size 3 along `channel_axis`, got (1024, 1024)\n",
            "the input array must have size 3 along `channel_axis`, got (300, 289)\n",
            "the input array must have size 3 along `channel_axis`, got (500, 377)\n",
            "the input array must have size 3 along `channel_axis`, got (938, 911)\n",
            "the input array must have size 3 along `channel_axis`, got (325, 300)\n",
            "the input array must have size 3 along `channel_axis`, got (1427, 1275)\n",
            "the input array must have size 3 along `channel_axis`, got (300, 240)\n",
            "the input array must have size 3 along `channel_axis`, got (294, 250)\n",
            "the input array must have size 3 along `channel_axis`, got (360, 319)\n",
            "the input array must have size 3 along `channel_axis`, got (336, 300)\n",
            "the input array must have size 3 along `channel_axis`, got (300, 289)\n",
            "the input array must have size 3 along `channel_axis`, got (1024, 1024)\n",
            "the input array must have size 3 along `channel_axis`, got (360, 319)\n",
            "the input array must have size 3 along `channel_axis`, got (938, 911)\n",
            "the input array must have size 3 along `channel_axis`, got (1427, 1275)\n",
            "the input array must have size 3 along `channel_axis`, got (325, 300)\n",
            "the input array must have size 3 along `channel_axis`, got (336, 300)\n",
            "the input array must have size 3 along `channel_axis`, got (500, 377)\n",
            "the input array must have size 3 along `channel_axis`, got (294, 250)\n",
            "the input array must have size 3 along `channel_axis`, got (300, 240)\n",
            "the input array must have size 3 along `channel_axis`, got (1024, 1024)\n",
            "the input array must have size 3 along `channel_axis`, got (300, 289)\n",
            "the input array must have size 3 along `channel_axis`, got (360, 319)\n",
            "the input array must have size 3 along `channel_axis`, got (294, 250)\n",
            "the input array must have size 3 along `channel_axis`, got (325, 300)\n",
            "the input array must have size 3 along `channel_axis`, got (938, 911)\n",
            "the input array must have size 3 along `channel_axis`, got (1427, 1275)\n",
            "the input array must have size 3 along `channel_axis`, got (300, 240)\n",
            "the input array must have size 3 along `channel_axis`, got (1427, 1275)\n",
            "the input array must have size 3 along `channel_axis`, got (325, 300)\n",
            "the input array must have size 3 along `channel_axis`, got (336, 300)\n",
            "the input array must have size 3 along `channel_axis`, got (278, 236)\n",
            "the input array must have size 3 along `channel_axis`, got (294, 250)\n",
            "the input array must have size 3 along `channel_axis`, got (1427, 1275)\n",
            "the input array must have size 3 along `channel_axis`, got (300, 240)\n",
            "the input array must have size 3 along `channel_axis`, got (325, 300)\n",
            "the input array must have size 3 along `channel_axis`, got (938, 911)\n",
            "the input array must have size 3 along `channel_axis`, got (294, 250)\n",
            "the input array must have size 3 along `channel_axis`, got (500, 377)\n",
            "the input array must have size 3 along `channel_axis`, got (360, 319)\n",
            "the input array must have size 3 along `channel_axis`, got (300, 240)\n",
            "the input array must have size 3 along `channel_axis`, got (336, 300)\n",
            "the input array must have size 3 along `channel_axis`, got (336, 300)\n",
            "the input array must have size 3 along `channel_axis`, got (1024, 1024)\n",
            "the input array must have size 3 along `channel_axis`, got (1427, 1275)\n",
            "the input array must have size 3 along `channel_axis`, got (938, 911)\n",
            "the input array must have size 3 along `channel_axis`, got (294, 250)\n",
            "the input array must have size 3 along `channel_axis`, got (325, 300)\n",
            "the input array must have size 3 along `channel_axis`, got (300, 240)\n",
            "the input array must have size 3 along `channel_axis`, got (336, 300)\n",
            "the input array must have size 3 along `channel_axis`, got (500, 377)\n",
            "the input array must have size 3 along `channel_axis`, got (1024, 1024)\n",
            "the input array must have size 3 along `channel_axis`, got (294, 250)\n",
            "the input array must have size 3 along `channel_axis`, got (630, 630)\n",
            "the input array must have size 3 along `channel_axis`, got (275, 220)\n",
            "the input array must have size 3 along `channel_axis`, got (630, 630)\n",
            "the input array must have size 3 along `channel_axis`, got (442, 442)\n",
            "the input array must have size 3 along `channel_axis`, got (275, 220)\n",
            "the input array must have size 3 along `channel_axis`, got (225, 225)\n",
            "the input array must have size 3 along `channel_axis`, got (1024, 1024)\n",
            "the input array must have size 3 along `channel_axis`, got (512, 512, 4)\n",
            "the input array must have size 3 along `channel_axis`, got (630, 630)\n",
            "the input array must have size 3 along `channel_axis`, got (275, 220)\n",
            "the input array must have size 3 along `channel_axis`, got (442, 409)\n",
            "the input array must have size 3 along `channel_axis`, got (664, 550, 4)\n",
            "the input array must have size 3 along `channel_axis`, got (750, 750)\n",
            "the input array must have size 3 along `channel_axis`, got (725, 728, 4)\n",
            "the input array must have size 3 along `channel_axis`, got (301, 275)\n",
            "the input array must have size 3 along `channel_axis`, got (630, 630)\n",
            "the input array must have size 3 along `channel_axis`, got (442, 442)\n",
            "the input array must have size 3 along `channel_axis`, got (1024, 1024)\n",
            "the input array must have size 3 along `channel_axis`, got (442, 442)\n",
            "the input array must have size 3 along `channel_axis`, got (301, 275)\n",
            "the input array must have size 3 along `channel_axis`, got (275, 220)\n",
            "the input array must have size 3 along `channel_axis`, got (630, 630)\n",
            "the input array must have size 3 along `channel_axis`, got (301, 275)\n",
            "the input array must have size 3 along `channel_axis`, got (630, 630)\n",
            "the input array must have size 3 along `channel_axis`, got (630, 630)\n",
            "the input array must have size 3 along `channel_axis`, got (301, 275)\n",
            "the input array must have size 3 along `channel_axis`, got (442, 409)\n",
            "the input array must have size 3 along `channel_axis`, got (664, 550, 4)\n",
            "the input array must have size 3 along `channel_axis`, got (275, 220)\n",
            "the input array must have size 3 along `channel_axis`, got (225, 225)\n",
            "the input array must have size 3 along `channel_axis`, got (725, 728, 4)\n",
            "the input array must have size 3 along `channel_axis`, got (400, 393, 4)\n",
            "the input array must have size 3 along `channel_axis`, got (1024, 1024)\n",
            "the input array must have size 3 along `channel_axis`, got (454, 442, 4)\n",
            "the input array must have size 3 along `channel_axis`, got (630, 630)\n",
            "the input array must have size 3 along `channel_axis`, got (442, 442)\n",
            "the input array must have size 3 along `channel_axis`, got (630, 630)\n",
            "the input array must have size 3 along `channel_axis`, got (630, 630)\n",
            "the input array must have size 3 along `channel_axis`, got (442, 442)\n",
            "the input array must have size 3 along `channel_axis`, got (275, 220)\n",
            "the input array must have size 3 along `channel_axis`, got (630, 630)\n",
            "the input array must have size 3 along `channel_axis`, got (630, 630)\n",
            "the input array must have size 3 along `channel_axis`, got (630, 630)\n",
            "the input array must have size 3 along `channel_axis`, got (630, 630)\n",
            "the input array must have size 3 along `channel_axis`, got (630, 630)\n",
            "the input array must have size 3 along `channel_axis`, got (630, 630)\n",
            "the input array must have size 3 along `channel_axis`, got (630, 630)\n"
          ]
        }
      ],
      "source": [
        "X = []\n",
        "y = []\n",
        "for i, cls in enumerate(classes):\n",
        "    path = os.path.join(data_dir, cls)\n",
        "    for img in os.listdir(path):\n",
        "        try:\n",
        "            # Convert image to grayscale and resize to a fixed size\n",
        "            img_array = resize(rgb2gray(plt.imread(os.path.join(path, img))), img_size)\n",
        "            X.append(img_array)  # Store the image array\n",
        "            y.append(i)  # Store the class label\n",
        "        except Exception as e:\n",
        "            print(e)"
      ]
    },
    {
      "cell_type": "code",
      "execution_count": null,
      "metadata": {
        "id": "4Z_U3YIiRebS"
      },
      "outputs": [],
      "source": [
        "X = np.array(X)\n",
        "y = np.array(y)"
      ]
    },
    {
      "cell_type": "code",
      "execution_count": null,
      "metadata": {
        "colab": {
          "base_uri": "https://localhost:8080/"
        },
        "id": "H1jDQdqcRmQq",
        "outputId": "4e6b460c-6991-4bf4-b6da-85b14b2e4cbb"
      },
      "outputs": [
        {
          "name": "stdout",
          "output_type": "stream",
          "text": [
            "(4473, 150, 150) (4473,)\n"
          ]
        }
      ],
      "source": [
        "print(X.shape, y.shape)"
      ]
    },
    {
      "cell_type": "code",
      "execution_count": null,
      "metadata": {
        "colab": {
          "background_save": true
        },
        "id": "9Kwi4i2HRnKj",
        "outputId": "c05a7ba6-e197-42b8-965b-8f482b8eea64"
      },
      "outputs": [
        {
          "name": "stdout",
          "output_type": "stream",
          "text": [
            "[[0.07551878 0.07843244 0.08235096 ... 0.07339585 0.07058976 0.07058824]\n",
            " [0.00392157 0.00392157 0.00392157 ... 0.00392157 0.00392157 0.00392157]\n",
            " [0.         0.         0.         ... 0.         0.         0.        ]\n",
            " ...\n",
            " [0.09389415 0.10777612 0.12432494 ... 0.14587103 0.07381517 0.46272178]\n",
            " [0.07058824 0.07058824 0.07058824 ... 0.07058824 0.07058824 0.07058824]\n",
            " [0.         0.         0.         ... 0.         0.         0.        ]]\n"
          ]
        },
        {
          "ename": "KeyboardInterrupt",
          "evalue": "ignored",
          "output_type": "error",
          "traceback": [
            "\u001b[0;31m---------------------------------------------------------------------------\u001b[0m",
            "\u001b[0;31mKeyboardInterrupt\u001b[0m                         Traceback (most recent call last)",
            "\u001b[0;32m<ipython-input-28-dd468e1498ab>\u001b[0m in \u001b[0;36m<cell line: 7>\u001b[0;34m()\u001b[0m\n\u001b[1;32m      5\u001b[0m \u001b[0mprint\u001b[0m\u001b[0;34m(\u001b[0m\u001b[0mX_test\u001b[0m\u001b[0;34m)\u001b[0m\u001b[0;34m\u001b[0m\u001b[0;34m\u001b[0m\u001b[0m\n\u001b[1;32m      6\u001b[0m \u001b[0mclf\u001b[0m \u001b[0;34m=\u001b[0m \u001b[0mDecisionTreeClassifier\u001b[0m\u001b[0;34m(\u001b[0m\u001b[0;34m)\u001b[0m\u001b[0;34m\u001b[0m\u001b[0;34m\u001b[0m\u001b[0m\n\u001b[0;32m----> 7\u001b[0;31m \u001b[0mclf\u001b[0m\u001b[0;34m.\u001b[0m\u001b[0mfit\u001b[0m\u001b[0;34m(\u001b[0m\u001b[0mX_train\u001b[0m\u001b[0;34m,\u001b[0m \u001b[0my_train\u001b[0m\u001b[0;34m)\u001b[0m\u001b[0;34m\u001b[0m\u001b[0;34m\u001b[0m\u001b[0m\n\u001b[0m\u001b[1;32m      8\u001b[0m \u001b[0;34m\u001b[0m\u001b[0m\n\u001b[1;32m      9\u001b[0m \u001b[0my_pred\u001b[0m \u001b[0;34m=\u001b[0m \u001b[0mclf\u001b[0m\u001b[0;34m.\u001b[0m\u001b[0mpredict\u001b[0m\u001b[0;34m(\u001b[0m\u001b[0mX_test\u001b[0m\u001b[0;34m)\u001b[0m\u001b[0;34m\u001b[0m\u001b[0;34m\u001b[0m\u001b[0m\n",
            "\u001b[0;32m/usr/local/lib/python3.9/dist-packages/sklearn/tree/_classes.py\u001b[0m in \u001b[0;36mfit\u001b[0;34m(self, X, y, sample_weight, check_input)\u001b[0m\n\u001b[1;32m    887\u001b[0m         \"\"\"\n\u001b[1;32m    888\u001b[0m \u001b[0;34m\u001b[0m\u001b[0m\n\u001b[0;32m--> 889\u001b[0;31m         super().fit(\n\u001b[0m\u001b[1;32m    890\u001b[0m             \u001b[0mX\u001b[0m\u001b[0;34m,\u001b[0m\u001b[0;34m\u001b[0m\u001b[0;34m\u001b[0m\u001b[0m\n\u001b[1;32m    891\u001b[0m             \u001b[0my\u001b[0m\u001b[0;34m,\u001b[0m\u001b[0;34m\u001b[0m\u001b[0;34m\u001b[0m\u001b[0m\n",
            "\u001b[0;32m/usr/local/lib/python3.9/dist-packages/sklearn/tree/_classes.py\u001b[0m in \u001b[0;36mfit\u001b[0;34m(self, X, y, sample_weight, check_input)\u001b[0m\n\u001b[1;32m    377\u001b[0m             )\n\u001b[1;32m    378\u001b[0m \u001b[0;34m\u001b[0m\u001b[0m\n\u001b[0;32m--> 379\u001b[0;31m         \u001b[0mbuilder\u001b[0m\u001b[0;34m.\u001b[0m\u001b[0mbuild\u001b[0m\u001b[0;34m(\u001b[0m\u001b[0mself\u001b[0m\u001b[0;34m.\u001b[0m\u001b[0mtree_\u001b[0m\u001b[0;34m,\u001b[0m \u001b[0mX\u001b[0m\u001b[0;34m,\u001b[0m \u001b[0my\u001b[0m\u001b[0;34m,\u001b[0m \u001b[0msample_weight\u001b[0m\u001b[0;34m)\u001b[0m\u001b[0;34m\u001b[0m\u001b[0;34m\u001b[0m\u001b[0m\n\u001b[0m\u001b[1;32m    380\u001b[0m \u001b[0;34m\u001b[0m\u001b[0m\n\u001b[1;32m    381\u001b[0m         \u001b[0;32mif\u001b[0m \u001b[0mself\u001b[0m\u001b[0;34m.\u001b[0m\u001b[0mn_outputs_\u001b[0m \u001b[0;34m==\u001b[0m \u001b[0;36m1\u001b[0m \u001b[0;32mand\u001b[0m \u001b[0mis_classifier\u001b[0m\u001b[0;34m(\u001b[0m\u001b[0mself\u001b[0m\u001b[0;34m)\u001b[0m\u001b[0;34m:\u001b[0m\u001b[0;34m\u001b[0m\u001b[0;34m\u001b[0m\u001b[0m\n",
            "\u001b[0;31mKeyboardInterrupt\u001b[0m: "
          ]
        }
      ],
      "source": [
        "X_train, X_test, y_train, y_test = train_test_split(X, y, test_size=0.2, random_state=42)\n",
        "\n",
        "X_train = X_train.reshape(X_train.shape[0], -1)\n",
        "X_test = X_test.reshape(X_test.shape[0], -1)\n",
        "print(X_test)\n",
        "clf = DecisionTreeClassifier()\n",
        "clf.fit(X_train, y_train)\n",
        "\n",
        "y_pred = clf.predict(X_test)\n",
        "acc = accuracy_score(y_test, y_pred)"
      ]
    },
    {
      "cell_type": "code",
      "execution_count": null,
      "metadata": {
        "colab": {
          "base_uri": "https://localhost:8080/"
        },
        "id": "N1wqJvjZUtLk",
        "outputId": "c83fc4d0-3db2-4d8c-f660-c58c94a3f72f"
      },
      "outputs": [
        {
          "name": "stdout",
          "output_type": "stream",
          "text": [
            "Accuracy: 0.8849162011173184\n",
            "Accuracy Percentage: 88.492 %\n"
          ]
        }
      ],
      "source": [
        "print('Accuracy:', acc)\n",
        "print('Accuracy Percentage:', round(acc*100,3),\"%\")"
      ]
    }
  ],
  "metadata": {
    "colab": {
      "provenance": [],
      "mount_file_id": "1pRbOQwurxppqUQHt40cyayiM_LKFfELc",
      "authorship_tag": "ABX9TyMYcFUlMk4rpoOC1mtGT2Ac",
      "include_colab_link": true
    },
    "kernelspec": {
      "display_name": "Python 3",
      "name": "python3"
    },
    "language_info": {
      "name": "python"
    }
  },
  "nbformat": 4,
  "nbformat_minor": 0
}